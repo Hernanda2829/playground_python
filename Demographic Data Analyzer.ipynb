{
 "cells": [
  {
   "cell_type": "code",
   "execution_count": 65,
   "id": "e6884306-2b8b-4f77-85ae-4115e27fb59e",
   "metadata": {},
   "outputs": [],
   "source": [
    "import pandas as pd"
   ]
  },
  {
   "cell_type": "code",
   "execution_count": 66,
   "id": "d4a45b70-1bef-4599-842e-457e2390fd5a",
   "metadata": {},
   "outputs": [],
   "source": [
    "df = pd.read_csv(r\"F:\\analisis\\localperfume\\D1.csv\")"
   ]
  },
  {
   "cell_type": "code",
   "execution_count": 67,
   "id": "f7d54279-1b0a-4063-8cd4-c5dded745362",
   "metadata": {},
   "outputs": [
    {
     "data": {
      "text/html": [
       "<div>\n",
       "<style scoped>\n",
       "    .dataframe tbody tr th:only-of-type {\n",
       "        vertical-align: middle;\n",
       "    }\n",
       "\n",
       "    .dataframe tbody tr th {\n",
       "        vertical-align: top;\n",
       "    }\n",
       "\n",
       "    .dataframe thead th {\n",
       "        text-align: right;\n",
       "    }\n",
       "</style>\n",
       "<table border=\"1\" class=\"dataframe\">\n",
       "  <thead>\n",
       "    <tr style=\"text-align: right;\">\n",
       "      <th></th>\n",
       "      <th>NO</th>\n",
       "      <th>age</th>\n",
       "      <th>workclass</th>\n",
       "      <th>fnlwgt</th>\n",
       "      <th>education</th>\n",
       "      <th>education-num</th>\n",
       "      <th>marital-status</th>\n",
       "      <th>occupation</th>\n",
       "      <th>relationship</th>\n",
       "      <th>race</th>\n",
       "      <th>sex</th>\n",
       "      <th>capital-gain</th>\n",
       "      <th>capital-loss</th>\n",
       "      <th>hours-per-week</th>\n",
       "      <th>native-country</th>\n",
       "      <th>salary</th>\n",
       "    </tr>\n",
       "  </thead>\n",
       "  <tbody>\n",
       "    <tr>\n",
       "      <th>0</th>\n",
       "      <td>NaN</td>\n",
       "      <td>NaN</td>\n",
       "      <td>NaN</td>\n",
       "      <td>NaN</td>\n",
       "      <td>NaN</td>\n",
       "      <td>NaN</td>\n",
       "      <td>NaN</td>\n",
       "      <td>NaN</td>\n",
       "      <td>NaN</td>\n",
       "      <td>NaN</td>\n",
       "      <td>NaN</td>\n",
       "      <td>NaN</td>\n",
       "      <td>NaN</td>\n",
       "      <td>NaN</td>\n",
       "      <td>NaN</td>\n",
       "      <td>NaN</td>\n",
       "    </tr>\n",
       "    <tr>\n",
       "      <th>1</th>\n",
       "      <td>0.0</td>\n",
       "      <td>39.0</td>\n",
       "      <td>State-gov</td>\n",
       "      <td>77516.0</td>\n",
       "      <td>Bachelors</td>\n",
       "      <td>13.0</td>\n",
       "      <td>Never-married</td>\n",
       "      <td>Adm-clerical</td>\n",
       "      <td>Not-in-family</td>\n",
       "      <td>White</td>\n",
       "      <td>Male</td>\n",
       "      <td>2174.0</td>\n",
       "      <td>0.0</td>\n",
       "      <td>40.0</td>\n",
       "      <td>United-States</td>\n",
       "      <td>&lt;=50K</td>\n",
       "    </tr>\n",
       "    <tr>\n",
       "      <th>2</th>\n",
       "      <td>1.0</td>\n",
       "      <td>50.0</td>\n",
       "      <td>Self-emp-not-inc</td>\n",
       "      <td>83311.0</td>\n",
       "      <td>Bachelors</td>\n",
       "      <td>13.0</td>\n",
       "      <td>Married-civ-spouse</td>\n",
       "      <td>Exec-managerial</td>\n",
       "      <td>Husband</td>\n",
       "      <td>White</td>\n",
       "      <td>Male</td>\n",
       "      <td>0.0</td>\n",
       "      <td>0.0</td>\n",
       "      <td>13.0</td>\n",
       "      <td>United-States</td>\n",
       "      <td>&lt;=50K</td>\n",
       "    </tr>\n",
       "    <tr>\n",
       "      <th>3</th>\n",
       "      <td>2.0</td>\n",
       "      <td>38.0</td>\n",
       "      <td>Private</td>\n",
       "      <td>215646.0</td>\n",
       "      <td>HS-grad</td>\n",
       "      <td>9.0</td>\n",
       "      <td>Divorced</td>\n",
       "      <td>Handlers-cleaners</td>\n",
       "      <td>Not-in-family</td>\n",
       "      <td>White</td>\n",
       "      <td>Male</td>\n",
       "      <td>0.0</td>\n",
       "      <td>0.0</td>\n",
       "      <td>40.0</td>\n",
       "      <td>United-States</td>\n",
       "      <td>&lt;=50K</td>\n",
       "    </tr>\n",
       "    <tr>\n",
       "      <th>4</th>\n",
       "      <td>3.0</td>\n",
       "      <td>53.0</td>\n",
       "      <td>Private</td>\n",
       "      <td>234721.0</td>\n",
       "      <td>11th</td>\n",
       "      <td>7.0</td>\n",
       "      <td>Married-civ-spouse</td>\n",
       "      <td>Handlers-cleaners</td>\n",
       "      <td>Husband</td>\n",
       "      <td>Black</td>\n",
       "      <td>Male</td>\n",
       "      <td>0.0</td>\n",
       "      <td>0.0</td>\n",
       "      <td>40.0</td>\n",
       "      <td>United-States</td>\n",
       "      <td>&lt;=50K</td>\n",
       "    </tr>\n",
       "  </tbody>\n",
       "</table>\n",
       "</div>"
      ],
      "text/plain": [
       "    NO   age           workclass    fnlwgt      education  education-num  \\\n",
       "0  NaN   NaN                 NaN       NaN            NaN            NaN   \n",
       "1  0.0  39.0   State-gov           77516.0   Bachelors              13.0   \n",
       "2  1.0  50.0   Self-emp-not-inc    83311.0   Bachelors              13.0   \n",
       "3  2.0  38.0   Private            215646.0   HS-grad                 9.0   \n",
       "4  3.0  53.0   Private            234721.0   11th                    7.0   \n",
       "\n",
       "         marital-status           occupation      relationship      race  \\\n",
       "0                   NaN                  NaN               NaN       NaN   \n",
       "1   Never-married         Adm-clerical         Not-in-family     White     \n",
       "2   Married-civ-spouse    Exec-managerial      Husband           White     \n",
       "3   Divorced              Handlers-cleaners    Not-in-family     White     \n",
       "4   Married-civ-spouse    Handlers-cleaners    Husband           Black     \n",
       "\n",
       "        sex  capital-gain  capital-loss  hours-per-week      native-country  \\\n",
       "0       NaN           NaN           NaN             NaN                 NaN   \n",
       "1   Male           2174.0           0.0            40.0   United-States       \n",
       "2   Male              0.0           0.0            13.0   United-States       \n",
       "3   Male              0.0           0.0            40.0   United-States       \n",
       "4   Male              0.0           0.0            40.0   United-States       \n",
       "\n",
       "    salary     \n",
       "0         NaN  \n",
       "1   <=50K      \n",
       "2   <=50K      \n",
       "3   <=50K      \n",
       "4   <=50K      "
      ]
     },
     "execution_count": 67,
     "metadata": {},
     "output_type": "execute_result"
    }
   ],
   "source": [
    "df.head()"
   ]
  },
  {
   "cell_type": "code",
   "execution_count": 69,
   "id": "211ae92c-2c0c-467b-8df5-7fc1c9f05a8e",
   "metadata": {},
   "outputs": [],
   "source": [
    "df = df.dropna()"
   ]
  },
  {
   "cell_type": "code",
   "execution_count": 70,
   "id": "bae67fb0-1ac2-4502-871a-da9d197f4ed4",
   "metadata": {},
   "outputs": [
    {
     "name": "stdout",
     "output_type": "stream",
     "text": [
      "Index(['NO', 'age', 'workclass', 'fnlwgt', 'education', 'education-num',\n",
      "       'marital-status', 'occupation', 'relationship', 'race', 'sex',\n",
      "       'capital-gain', 'capital-loss', 'hours-per-week', 'native-country',\n",
      "       ' salary   '],\n",
      "      dtype='object')\n"
     ]
    }
   ],
   "source": [
    "print(df.columns)"
   ]
  },
  {
   "cell_type": "code",
   "execution_count": 71,
   "id": "116c66e5-9eb5-470b-89b0-08c41e8cd06b",
   "metadata": {},
   "outputs": [],
   "source": [
    "race_count = df['race'].value_counts()"
   ]
  },
  {
   "cell_type": "code",
   "execution_count": 72,
   "id": "6cd7a964-5ec2-4fb0-a54e-1c918fb7d1ee",
   "metadata": {},
   "outputs": [],
   "source": [
    "average_age_men = df[df['sex'] == 'Male']['age'].mean()"
   ]
  },
  {
   "cell_type": "code",
   "execution_count": 73,
   "id": "1319a25b-8d27-489a-af0a-3495b2ec63ea",
   "metadata": {},
   "outputs": [],
   "source": [
    "bachelors_percentage = (df['education'] == 'Bachelors').mean() * 100"
   ]
  },
  {
   "cell_type": "code",
   "execution_count": 77,
   "id": "c547c0c4-fcee-401f-b426-6fc59fc202d3",
   "metadata": {},
   "outputs": [],
   "source": [
    "higher_education = df['education'].isin(['Bachelors', 'Masters', 'Doctorate'])\n",
    "if df[higher_education].shape[0] > 0:\n",
    "    higher_education_rich_percentage = (df[higher_education & (df[' salary   '] == '>50K')].shape[0] / df[higher_education].shape[0]) * 100\n",
    "else:\n",
    "    higher_education_rich_percentage = 0"
   ]
  },
  {
   "cell_type": "code",
   "execution_count": 78,
   "id": "cfa908cf-1234-4290-a470-17879a4ef117",
   "metadata": {},
   "outputs": [],
   "source": [
    "# Menghitung persentase orang tanpa pendidikan tinggi yang berpenghasilan lebih dari 50K\n",
    "lower_education = ~higher_education\n",
    "if df[lower_education].shape[0] > 0:\n",
    "    lower_education_rich_percentage = (df[lower_education & (df[' salary   '] == '>50K')].shape[0] / df[lower_education].shape[0]) * 100\n",
    "else:\n",
    "    lower_education_rich_percentage = 0"
   ]
  },
  {
   "cell_type": "code",
   "execution_count": 79,
   "id": "ce3e13ac-22be-4788-9bad-244335d33aaa",
   "metadata": {},
   "outputs": [],
   "source": [
    "min_work_hours = df['hours-per-week'].min()"
   ]
  },
  {
   "cell_type": "code",
   "execution_count": 80,
   "id": "204f34c0-40aa-4fb5-b8f9-474f5a2aa774",
   "metadata": {},
   "outputs": [],
   "source": [
    "# Menghitung persentase orang yang bekerja dengan jam kerja minimum dan berpenghasilan lebih dari 50K\n",
    "if df[df['hours-per-week'] == min_work_hours].shape[0] > 0:\n",
    "    rich_percentage_min_hours = (df[(df['hours-per-week'] == min_work_hours) & (df[' salary   '] == '>50K')].shape[0] / df[df['hours-per-week'] == min_work_hours].shape[0]) * 100\n",
    "else:\n",
    "    rich_percentage_min_hours = 0"
   ]
  },
  {
   "cell_type": "code",
   "execution_count": 81,
   "id": "c7474b18-0205-4c7c-b83b-e047407dde0b",
   "metadata": {},
   "outputs": [],
   "source": [
    "# Menghitung negara dengan persentase tertinggi orang yang berpenghasilan lebih dari 50K\n",
    "country_salary = df[df[' salary   '] == '>50K']['native-country'].value_counts(normalize=True) * 100\n",
    "if not country_salary.empty:\n",
    "    highest_earning_country = country_salary.idxmax()\n",
    "    highest_earning_country_percentage = country_salary.max()\n",
    "else:\n",
    "    highest_earning_country = None\n",
    "    highest_earning_country_percentage = 0"
   ]
  },
  {
   "cell_type": "code",
   "execution_count": 82,
   "id": "aeef8b94-cddd-45b8-8b5c-cf263add11bd",
   "metadata": {},
   "outputs": [],
   "source": [
    "# Mengidentifikasi pekerjaan paling populer untuk yang berpenghasilan >50K di India\n",
    "top_IN_occupation = df[(df['native-country'] == 'India') & (df[' salary   '] == '>50K')]['occupation'].mode()\n",
    "top_IN_occupation = top_IN_occupation[0] if not top_IN_occupation.empty else None"
   ]
  },
  {
   "cell_type": "code",
   "execution_count": 83,
   "id": "1f433776-4145-4ac7-9f36-38dac4b4ca6f",
   "metadata": {},
   "outputs": [
    {
     "name": "stdout",
     "output_type": "stream",
     "text": [
      "{'race_count': race\n",
      "White      3\n",
      "Black      2\n",
      "Name: count, dtype: int64, 'average_age_men': nan, 'bachelors_percentage': np.float64(0.0), 'higher_education_rich_percentage': 0, 'lower_education_rich_percentage': 0.0, 'min_work_hours': np.float64(13.0), 'rich_percentage_min_hours': 0.0, 'highest_earning_country': None, 'highest_earning_country_percentage': 0, 'top_IN_occupation': None}\n"
     ]
    }
   ],
   "source": [
    "results = {\n",
    "    'race_count': race_count,\n",
    "    'average_age_men': average_age_men,\n",
    "    'bachelors_percentage': bachelors_percentage,\n",
    "    'higher_education_rich_percentage': higher_education_rich_percentage,\n",
    "    'lower_education_rich_percentage': lower_education_rich_percentage,\n",
    "    'min_work_hours': min_work_hours,\n",
    "    'rich_percentage_min_hours': rich_percentage_min_hours,\n",
    "    'highest_earning_country': highest_earning_country,\n",
    "    'highest_earning_country_percentage': highest_earning_country_percentage,\n",
    "    'top_IN_occupation': top_IN_occupation\n",
    "}\n",
    "\n",
    "print(results)"
   ]
  }
 ],
 "metadata": {
  "kernelspec": {
   "display_name": "Python 3 (ipykernel)",
   "language": "python",
   "name": "python3"
  },
  "language_info": {
   "codemirror_mode": {
    "name": "ipython",
    "version": 3
   },
   "file_extension": ".py",
   "mimetype": "text/x-python",
   "name": "python",
   "nbconvert_exporter": "python",
   "pygments_lexer": "ipython3",
   "version": "3.12.4"
  }
 },
 "nbformat": 4,
 "nbformat_minor": 5
}
